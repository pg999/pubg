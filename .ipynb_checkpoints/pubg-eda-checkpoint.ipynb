{
 "cells": [
  {
   "cell_type": "markdown",
   "metadata": {},
   "source": [
    "# PUBG Finish Placement Prediction"
   ]
  },
  {
   "cell_type": "markdown",
   "metadata": {},
   "source": [
    "### Data Dictionary:\n",
    "\n",
    "DBNOs - Number of enemy players knocked.\n",
    "assists - Number of enemy players this player damaged that were killed by teammates.\n",
    "boosts - Number of boost items used.\n",
    "damageDealt - Total damage dealt. Note: Self inflicted damage is subtracted.\n",
    "headshotKills - Number of enemy players killed with headshots.\n",
    "heal - Number of healing items used.\n",
    "killPlace - Ranking in match of number of enemy players killed.\n",
    "killPoints - Kills-based external ranking of player. (Think of this as an Elo ranking where only kills matter.)\n",
    "killStreaks - Max number of enemy players killed in a short amount of time.\n",
    "kills - Number of enemy players killed.\n",
    "longestKill - Longest distance between player and player killed at time of death. This may be misleading, as downing a player and driving away may lead to a large longestKill stat.\n",
    "matchId - Integer ID to identify match. There are no matches that are in both the training and testing set.\n",
    "revives - Number of times this player revived teammates.\n",
    "rideDistance - Total distance traveled in vehicles measured in meters.\n",
    "roadKills - Number of kills while in a vehicle.\n",
    "swimDistance - Total distance traveled by swimming measured in meters.\n",
    "teamKills - Number of times this player killed a teammate.\n",
    "vehicleDestroys - Number of vehicles destroyed.\n",
    "walkDistance - Total distance traveled on foot measured in meters.\n",
    "weaponsAcquired - Number of weapons picked up.\n",
    "winPoints - Win-based external ranking of player. (Think of this as an Elo ranking where only winning matters.)\n",
    "groupId - Integer ID to identify a group within a match. If the same group of players plays in different matches, they will have a different groupId each time.\n",
    "numGroups - Number of groups we have data for in the match.\n",
    "maxPlace - Worst placement we have data for in the match. This may not match with numGroups, as sometimes the data skips over placements.\n",
    "winPlacePerc - The target of prediction. This is a percentile winning placement, where 1 corresponds to 1st place, and 0 corresponds to last place in the match. It is calculated off of maxPlace, not numGroups, so it is possible to have missing chunks in a match."
   ]
  },
  {
   "cell_type": "markdown",
   "metadata": {},
   "source": [
    "Problem Statement: You must create a model which predicts players' finishing placement based on their final stats, on a scale from 1 (first place) to 0 (last place)\n",
    "\n",
    "Target variable: winPlacePerc - This is a percentile winning placement, where 1 corresponds to 1st place, and 0 corresponds to last place in the match. It is calculated off of maxPlace, not numGroups, so it is possible to have missing chunks in a match."
   ]
  },
  {
   "cell_type": "code",
   "execution_count": 3,
   "metadata": {},
   "outputs": [],
   "source": [
    "import pandas as pd\n",
    "import numpy as np\n",
    "import datetime\n",
    "\n",
    "import matplotlib.pyplot as plt\n",
    "import seaborn as sns\n",
    "\n",
    "from sklearn.metrics import mean_absolute_error, r2_score"
   ]
  },
  {
   "cell_type": "code",
   "execution_count": null,
   "metadata": {},
   "outputs": [],
   "source": [
    "data = pd.read_csv('data/train_V2.csv')\n",
    "data.head()"
   ]
  }
 ],
 "metadata": {
  "kernelspec": {
   "display_name": "Python 3",
   "language": "python",
   "name": "python3"
  },
  "language_info": {
   "codemirror_mode": {
    "name": "ipython",
    "version": 3
   },
   "file_extension": ".py",
   "mimetype": "text/x-python",
   "name": "python",
   "nbconvert_exporter": "python",
   "pygments_lexer": "ipython3",
   "version": "3.7.2"
  }
 },
 "nbformat": 4,
 "nbformat_minor": 2
}
